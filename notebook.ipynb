{
 "cells": [
  {
   "cell_type": "markdown",
   "id": "c40cf543",
   "metadata": {},
   "source": [
    "## Setup, Data Loading"
   ]
  },
  {
   "cell_type": "code",
   "execution_count": 43,
   "id": "1dc749b2",
   "metadata": {},
   "outputs": [
    {
     "name": "stdout",
     "output_type": "stream",
     "text": [
      "Running locally, reading from the current directory.\n",
      "<class 'pandas.core.frame.DataFrame'>\n",
      "RangeIndex: 48000 entries, 0 to 47999\n",
      "Data columns (total 3 columns):\n",
      " #   Column  Non-Null Count  Dtype \n",
      "---  ------  --------------  ----- \n",
      " 0   ID      48000 non-null  int64 \n",
      " 1   text    48000 non-null  object\n",
      " 2   label   48000 non-null  int64 \n",
      "dtypes: int64(2), object(1)\n",
      "memory usage: 1.1+ MB\n",
      "label\n",
      "0    25798\n",
      "1    22015\n",
      "2      187\n",
      "Name: count, dtype: int64\n"
     ]
    },
    {
     "data": {
      "image/png": "[encoded data removed]",
      "text/plain": [
       "<Figure size 600x400 with 1 Axes>"
      ]
     },
     "metadata": {},
     "output_type": "display_data"
    }
   ],
   "source": [
    "import pandas as pd\n",
    "import numpy as np\n",
    "import matplotlib.pyplot as plt\n",
    "import seaborn as sns\n",
    "import os\n",
    "# conifguration \n",
    "pd.set_option('display.max_columns', 200)\n",
    "\n",
    "# Load Data\n",
    "try:\n",
    "    if 'KAGGLE_KERNEL_RUN_TYPE' in os.environ:\n",
    "        print(\"Running on Kaggle, reading from Kaggle's input directory.\")\n",
    "        train_df = pd.read_csv('/kaggle/input/depi-r-3-competition-1/xy_train.csv')\n",
    "        test_df = pd.read_csv('/kaggle/input/depi-r-3-competition-1/x_test.csv')\n",
    "        sample_submission_df = pd.read_csv('/kaggle/input/depi-r-3-competition-1/sample_submission.csv')\n",
    "    else:\n",
    "        print(\"Running locally, reading from the current directory.\")\n",
    "        train_df = pd.read_csv('xy_train.csv')\n",
    "        test_df = pd.read_csv('x_test.csv')\n",
    "        sample_submission_df = pd.read_csv('sample_submission.csv')\n",
    "except FileNotFoundError:\n",
    "    print(\"File issue!!\")\n",
    "\n",
    "train_df.info()\n",
    "\n",
    "#label distribution\n",
    "print(train_df['label'].value_counts())\n",
    "\n",
    "#let's see the distribution\n",
    "plt.figure(figsize=(6,4))\n",
    "sns.countplot(x='label', data = train_df)\n",
    "plt.title(\"Fake vs Real\")\n",
    "plt.xlabel('label')\n",
    "plt.ylabel('count')\n",
    "plt.show()"
   ]
  },
  {
   "cell_type": "code",
   "execution_count": 44,
   "id": "328505a5",
   "metadata": {},
   "outputs": [
    {
     "data": {
      "application/vnd.microsoft.datawrangler.viewer.v0+json": {
       "columns": [
        {
         "name": "index",
         "rawType": "int64",
         "type": "integer"
        },
        {
         "name": "ID",
         "rawType": "int64",
         "type": "integer"
        },
        {
         "name": "text",
         "rawType": "object",
         "type": "string"
        },
        {
         "name": "label",
         "rawType": "int64",
         "type": "integer"
        }
       ],
       "ref": "e9e014e5-26b1-41bd-a696-da4a7258bb50",
       "rows": [
        [
         "0",
         "0",
         "Americans Aren't Sure If Flight 370 Vanished Thanks to Aliens, Terrorists, or Hide-and-Seek",
         "1"
        ],
        [
         "1",
         "1",
         "Pope Leo X offering indulgences to sinners shortly before the protestant reformation (Circa 1516).",
         "0"
        ],
        [
         "2",
         "2",
         "News: 5 Uplifting Hypotheticals Of What Could Happen To Banned Refugees You Can Use To Block Out What鈥檚 Actually Going To Happen To Them",
         "0"
        ],
        [
         "3",
         "3",
         "George W. Bush and Jeb Bush at a campaign stop for their father's reelection. Springfield, IL (1992)",
         "0"
        ],
        [
         "4",
         "4",
         "The WADA requesting their fair share from Lance Armstrong via sales of his Live Strong wristbands [2004]",
         "0"
        ]
       ],
       "shape": {
        "columns": 3,
        "rows": 5
       }
      },
      "text/html": [
       "<div>\n",
       "<style scoped>\n",
       "    .dataframe tbody tr th:only-of-type {\n",
       "        vertical-align: middle;\n",
       "    }\n",
       "\n",
       "    .dataframe tbody tr th {\n",
       "        vertical-align: top;\n",
       "    }\n",
       "\n",
       "    .dataframe thead th {\n",
       "        text-align: right;\n",
       "    }\n",
       "</style>\n",
       "<table border=\"1\" class=\"dataframe\">\n",
       "  <thead>\n",
       "    <tr style=\"text-align: right;\">\n",
       "      <th></th>\n",
       "      <th>ID</th>\n",
       "      <th>text</th>\n",
       "      <th>label</th>\n",
       "    </tr>\n",
       "  </thead>\n",
       "  <tbody>\n",
       "    <tr>\n",
       "      <th>0</th>\n",
       "      <td>0</td>\n",
       "      <td>Americans Aren't Sure If Flight 370 Vanished T...</td>\n",
       "      <td>1</td>\n",
       "    </tr>\n",
       "    <tr>\n",
       "      <th>1</th>\n",
       "      <td>1</td>\n",
       "      <td>Pope Leo X offering indulgences to sinners sho...</td>\n",
       "      <td>0</td>\n",
       "    </tr>\n",
       "    <tr>\n",
       "      <th>2</th>\n",
       "      <td>2</td>\n",
       "      <td>News: 5 Uplifting Hypotheticals Of What Could ...</td>\n",
       "      <td>0</td>\n",
       "    </tr>\n",
       "    <tr>\n",
       "      <th>3</th>\n",
       "      <td>3</td>\n",
       "      <td>George W. Bush and Jeb Bush at a campaign stop...</td>\n",
       "      <td>0</td>\n",
       "    </tr>\n",
       "    <tr>\n",
       "      <th>4</th>\n",
       "      <td>4</td>\n",
       "      <td>The WADA requesting their fair share from Lanc...</td>\n",
       "      <td>0</td>\n",
       "    </tr>\n",
       "  </tbody>\n",
       "</table>\n",
       "</div>"
      ],
      "text/plain": [
       "   ID                                               text  label\n",
       "0   0  Americans Aren't Sure If Flight 370 Vanished T...      1\n",
       "1   1  Pope Leo X offering indulgences to sinners sho...      0\n",
       "2   2  News: 5 Uplifting Hypotheticals Of What Could ...      0\n",
       "3   3  George W. Bush and Jeb Bush at a campaign stop...      0\n",
       "4   4  The WADA requesting their fair share from Lanc...      0"
      ]
     },
     "execution_count": 44,
     "metadata": {},
     "output_type": "execute_result"
    }
   ],
   "source": [
    "train_df.head()"
   ]
  },
  {
   "cell_type": "code",
   "execution_count": 45,
   "id": "8286a29e",
   "metadata": {},
   "outputs": [
    {
     "data": {
      "application/vnd.microsoft.datawrangler.viewer.v0+json": {
       "columns": [
        {
         "name": "index",
         "rawType": "int64",
         "type": "integer"
        },
        {
         "name": "ID",
         "rawType": "int64",
         "type": "integer"
        },
        {
         "name": "text",
         "rawType": "object",
         "type": "string"
        }
       ],
       "ref": "9a37af4d-68a7-4a78-9381-834aaf6aa389",
       "rows": [
        [
         "0",
         "0",
         "Local soccer club ditch shirt sponsorship deal with a payday loans company after fan backlash. Opt for local renewable energy firm instead."
        ],
        [
         "1",
         "1",
         "What is this weird metal thing in the mail from publishers clearing house, no branding or anything"
        ],
        [
         "2",
         "2",
         "Donald Trump Jr reportedly told in email of Russian government efforts to help campaign | US news"
        ],
        [
         "3",
         "3",
         "Satanist prayer is held in Alaskan government meeting - turns out they don't set fire to goats, collect spider blood or produce Obama鈥檚 birth certificates..."
        ],
        [
         "4",
         "4",
         "There's A Spectacular Error In The Background Of A \"Simpsons\" Episode And Here's Why It Matters | There is a picture of Maggie on the wall before she was born."
        ]
       ],
       "shape": {
        "columns": 2,
        "rows": 5
       }
      },
      "text/html": [
       "<div>\n",
       "<style scoped>\n",
       "    .dataframe tbody tr th:only-of-type {\n",
       "        vertical-align: middle;\n",
       "    }\n",
       "\n",
       "    .dataframe tbody tr th {\n",
       "        vertical-align: top;\n",
       "    }\n",
       "\n",
       "    .dataframe thead th {\n",
       "        text-align: right;\n",
       "    }\n",
       "</style>\n",
       "<table border=\"1\" class=\"dataframe\">\n",
       "  <thead>\n",
       "    <tr style=\"text-align: right;\">\n",
       "      <th></th>\n",
       "      <th>ID</th>\n",
       "      <th>text</th>\n",
       "    </tr>\n",
       "  </thead>\n",
       "  <tbody>\n",
       "    <tr>\n",
       "      <th>0</th>\n",
       "      <td>0</td>\n",
       "      <td>Local soccer club ditch shirt sponsorship deal...</td>\n",
       "    </tr>\n",
       "    <tr>\n",
       "      <th>1</th>\n",
       "      <td>1</td>\n",
       "      <td>What is this weird metal thing in the mail fro...</td>\n",
       "    </tr>\n",
       "    <tr>\n",
       "      <th>2</th>\n",
       "      <td>2</td>\n",
       "      <td>Donald Trump Jr reportedly told in email of Ru...</td>\n",
       "    </tr>\n",
       "    <tr>\n",
       "      <th>3</th>\n",
       "      <td>3</td>\n",
       "      <td>Satanist prayer is held in Alaskan government ...</td>\n",
       "    </tr>\n",
       "    <tr>\n",
       "      <th>4</th>\n",
       "      <td>4</td>\n",
       "      <td>There's A Spectacular Error In The Background ...</td>\n",
       "    </tr>\n",
       "  </tbody>\n",
       "</table>\n",
       "</div>"
      ],
      "text/plain": [
       "   ID                                               text\n",
       "0   0  Local soccer club ditch shirt sponsorship deal...\n",
       "1   1  What is this weird metal thing in the mail fro...\n",
       "2   2  Donald Trump Jr reportedly told in email of Ru...\n",
       "3   3  Satanist prayer is held in Alaskan government ...\n",
       "4   4  There's A Spectacular Error In The Background ..."
      ]
     },
     "execution_count": 45,
     "metadata": {},
     "output_type": "execute_result"
    }
   ],
   "source": [
    "test_df.head()"
   ]
  },
  {
   "cell_type": "code",
   "execution_count": 46,
   "id": "8e446347",
   "metadata": {},
   "outputs": [
    {
     "data": {
      "application/vnd.microsoft.datawrangler.viewer.v0+json": {
       "columns": [
        {
         "name": "index",
         "rawType": "int64",
         "type": "integer"
        },
        {
         "name": "ID",
         "rawType": "int64",
         "type": "integer"
        },
        {
         "name": "label",
         "rawType": "int64",
         "type": "integer"
        }
       ],
       "ref": "6d68b81e-f9fd-4a3e-b12b-45cfc8c019fd",
       "rows": [
        [
         "0",
         "0",
         "1"
        ],
        [
         "1",
         "1",
         "0"
        ],
        [
         "2",
         "2",
         "1"
        ],
        [
         "3",
         "3",
         "0"
        ],
        [
         "4",
         "4",
         "0"
        ]
       ],
       "shape": {
        "columns": 2,
        "rows": 5
       }
      },
      "text/html": [
       "<div>\n",
       "<style scoped>\n",
       "    .dataframe tbody tr th:only-of-type {\n",
       "        vertical-align: middle;\n",
       "    }\n",
       "\n",
       "    .dataframe tbody tr th {\n",
       "        vertical-align: top;\n",
       "    }\n",
       "\n",
       "    .dataframe thead th {\n",
       "        text-align: right;\n",
       "    }\n",
       "</style>\n",
       "<table border=\"1\" class=\"dataframe\">\n",
       "  <thead>\n",
       "    <tr style=\"text-align: right;\">\n",
       "      <th></th>\n",
       "      <th>ID</th>\n",
       "      <th>label</th>\n",
       "    </tr>\n",
       "  </thead>\n",
       "  <tbody>\n",
       "    <tr>\n",
       "      <th>0</th>\n",
       "      <td>0</td>\n",
       "      <td>1</td>\n",
       "    </tr>\n",
       "    <tr>\n",
       "      <th>1</th>\n",
       "      <td>1</td>\n",
       "      <td>0</td>\n",
       "    </tr>\n",
       "    <tr>\n",
       "      <th>2</th>\n",
       "      <td>2</td>\n",
       "      <td>1</td>\n",
       "    </tr>\n",
       "    <tr>\n",
       "      <th>3</th>\n",
       "      <td>3</td>\n",
       "      <td>0</td>\n",
       "    </tr>\n",
       "    <tr>\n",
       "      <th>4</th>\n",
       "      <td>4</td>\n",
       "      <td>0</td>\n",
       "    </tr>\n",
       "  </tbody>\n",
       "</table>\n",
       "</div>"
      ],
      "text/plain": [
       "   ID  label\n",
       "0   0      1\n",
       "1   1      0\n",
       "2   2      1\n",
       "3   3      0\n",
       "4   4      0"
      ]
     },
     "execution_count": 46,
     "metadata": {},
     "output_type": "execute_result"
    }
   ],
   "source": [
    "sample_submission_df.head()"
   ]
  },
  {
   "cell_type": "markdown",
   "id": "db04da7c",
   "metadata": {},
   "source": [
    "## Data Cleaning"
   ]
  },
  {
   "cell_type": "code",
   "execution_count": 47,
   "id": "1a48fbef",
   "metadata": {},
   "outputs": [],
   "source": [
    "# since we found a label=2 we should remove it\n",
    "train_df = train_df[train_df['label'] != 2]\n"
   ]
  },
  {
   "cell_type": "code",
   "execution_count": 48,
   "id": "c79dd016",
   "metadata": {},
   "outputs": [
    {
     "name": "stdout",
     "output_type": "stream",
     "text": [
      "<class 'pandas.core.frame.DataFrame'>\n",
      "Index: 47813 entries, 0 to 47999\n",
      "Data columns (total 3 columns):\n",
      " #   Column  Non-Null Count  Dtype \n",
      "---  ------  --------------  ----- \n",
      " 0   ID      47813 non-null  int64 \n",
      " 1   text    47813 non-null  object\n",
      " 2   label   47813 non-null  int64 \n",
      "dtypes: int64(2), object(1)\n",
      "memory usage: 1.5+ MB\n",
      "None\n",
      "label\n",
      "0    25798\n",
      "1    22015\n",
      "Name: count, dtype: int64\n"
     ]
    }
   ],
   "source": [
    "print(train_df.info())\n",
    "print(train_df['label'].value_counts())"
   ]
  },
  {
   "cell_type": "markdown",
   "id": "fcf4456b",
   "metadata": {},
   "source": [
    "## Answering Key Questions"
   ]
  },
  {
   "cell_type": "markdown",
   "id": "f58f15de",
   "metadata": {},
   "source": [
    "### 1. What is the difference between Character n-gram and Word n-gram? Which one is more affected by the OOV (Out-of-Vocabulary) issue?\n",
    "\n",
    "* **Word n-grams** are continous segments of words in a given sentence, \n",
    "let's define define a sentence: khaled love banana.\n",
    "a words n-gram of n=2 will look like this: [khaled love][love banana]\n",
    "\n",
    "* **Char n-gram** are continous segments of characters in a given sentence,\n",
    "let's trace it on \"khaled for n=3\n",
    "it should look like this: [khal][hal][ale][led]\n",
    "\n",
    "* **Which one is more affected by the OOV???** simply the anwer is the word n-gram, it makes sense as the letter n-gram for example in english is just 26 letters but the words in the dictionary?? i doubt you know them xD"
   ]
  },
  {
   "cell_type": "markdown",
   "id": "20467ca2",
   "metadata": {},
   "source": [
    "### 2. What is the difference between stop word removal and stemming? Are these techniques language-dependent?\n",
    "\n",
    "* **Stop words removal** is just the process of removing popular stop words like \"a\",\"the\",etc..\n",
    "* **Stemming** is the process of transforming a word to it's root, for example \"playing\" ==> \"play\"\n",
    "* **Lang Dependence?** yes due to the stemming rules and what wrord endings to move and what to keep so lang is imp here"
   ]
  },
  {
   "cell_type": "markdown",
   "id": "add9c9e5",
   "metadata": {},
   "source": [
    "### 3. Is tokenization language-dependent? Why?\n",
    "\n",
    "* **Yes**, for example the word boundaries in English (whitespaces) need carefull tokenization while in lang like chinese not boundaries at all"
   ]
  },
  {
   "cell_type": "markdown",
   "id": "ddae7262",
   "metadata": {},
   "source": [
    "### 4. What is the difference between Count Vectorizer and TF-IDF Vectorizer? Is it feasible to use all possible n-grams? How should they be selected?\n",
    "\n",
    "* **CountVectorizer**: matrix of frequencies, each row for docs and each col for tokens and the cells ==> the count of each token in that doc.\n",
    "\n",
    "* **TF-IDF Vectorizer**: matrix of frequencies but in aaddition to weighting.\n",
    "    * TF: same as the CountVectorizer, measure the freq of a word in a doc\n",
    "    * IDF: How important the term is, low weights for high freq words while high weight for low freq words.\n",
    "    * TF-IDF: multiplication of TF and IDF.\n",
    "    * TF-IDF ==> help to identify words that are freq in specific doc but rare across all docs.\n",
    "\n",
    "\n",
    "* **No it is not Feasible to use all n-grams**, simply for large vocab it will produce very high dimension vector which will make the model very slow\n",
    "\n",
    "* **How to select N-grams? **\n",
    "    * **Limit the n**: use uni,bi or try grams, 1 <= n <= 3\n",
    "    * **Max features**: limit the vocab to be used, use the most frequent ones.\n",
    "    * ignore terms that have doc freq lower than a min_df or higher than max_df you set\n"
   ]
  },
  {
   "cell_type": "markdown",
   "id": "95eac9c5",
   "metadata": {},
   "source": [
    "## Modeling"
   ]
  },
  {
   "cell_type": "markdown",
   "id": "116c2afa",
   "metadata": {},
   "source": [
    "** Model Exploration (Trials)"
   ]
  },
  {
   "cell_type": "markdown",
   "id": "5ccf8206",
   "metadata": {},
   "source": [
    "* Trial 1 | Logistic Regression"
   ]
  },
  {
   "cell_type": "code",
   "execution_count": 49,
   "id": "bca27d99",
   "metadata": {},
   "outputs": [],
   "source": [
    "from sklearn.model_selection import train_test_split\n",
    "from sklearn.feature_extraction.text import TfidfVectorizer\n",
    "from sklearn.pipeline import Pipeline\n",
    "from sklearn.metrics import accuracy_score"
   ]
  },
  {
   "cell_type": "code",
   "execution_count": 50,
   "id": "6ccb97ff",
   "metadata": {},
   "outputs": [
    {
     "name": "stdout",
     "output_type": "stream",
     "text": [
      "Train set size: 38250\n",
      "Validation set size: 9563\n"
     ]
    }
   ],
   "source": [
    "X = train_df['text']\n",
    "y = train_df['label']\n",
    "\n",
    "\n",
    "X_train, X_val, y_train, y_val = train_test_split(X, y, test_size=0.2, random_state=42, stratify=y)\n",
    "\n",
    "print(f\"Train set size: {X_train.shape[0]}\")\n",
    "print(f\"Validation set size: {X_val.shape[0]}\")"
   ]
  },
  {
   "cell_type": "code",
   "execution_count": 51,
   "id": "cd2126f3",
   "metadata": {},
   "outputs": [
    {
     "name": "stdout",
     "output_type": "stream",
     "text": [
      "\n",
      "Training the model....\n",
      ".....Taining complete.....\n",
      "Trial 1 | Logistic Regression | acc = 0.8079\n"
     ]
    }
   ],
   "source": [
    "from sklearn.linear_model import LogisticRegression\n",
    "\n",
    "#create the pipeline for the Tfidf + Logistic Reg\n",
    "logistic_pipeline = Pipeline(\n",
    "    [\n",
    "        ('tfidf', TfidfVectorizer(stop_words='english')),\n",
    "        ('model', LogisticRegression(random_state=42, solver='liblinear'))\n",
    "    ]\n",
    ")\n",
    "\n",
    "print(\"\\nTraining the model....\")\n",
    "logistic_pipeline.fit(X_train, y_train)\n",
    "print(\".....Taining complete.....\")\n",
    "\n",
    "y_pred = logistic_pipeline.predict(X_val)\n",
    "accuracy = accuracy_score(y_val, y_pred)\n",
    "print(f\"Trial 1 | Logistic Regression | acc = {accuracy:.4f}\")"
   ]
  },
  {
   "cell_type": "markdown",
   "id": "dcb332d7",
   "metadata": {},
   "source": [
    "* Trial 2 | Naive Bayes"
   ]
  },
  {
   "cell_type": "code",
   "execution_count": 52,
   "id": "60cbe0e4",
   "metadata": {},
   "outputs": [
    {
     "name": "stdout",
     "output_type": "stream",
     "text": [
      "\n",
      "Training the model....\n",
      ".....Taining complete.....\n",
      "Trial 2 | Naive Bayes | acc = 0.7858\n"
     ]
    }
   ],
   "source": [
    "from sklearn.naive_bayes import MultinomialNB\n",
    "\n",
    "naive_bayes_pipeline = Pipeline(\n",
    "    [\n",
    "        ('tfidf', TfidfVectorizer(stop_words='english')),\n",
    "        ('model', MultinomialNB())\n",
    "    ]\n",
    ")\n",
    "\n",
    "print(\"\\nTraining the model....\")\n",
    "naive_bayes_pipeline.fit(X_train, y_train)\n",
    "print(\".....Taining complete.....\")\n",
    "\n",
    "y_pred = naive_bayes_pipeline.predict(X_val)\n",
    "accuracy = accuracy_score(y_val, y_pred)\n",
    "print(f\"Trial 2 | Naive Bayes | acc = {accuracy:.4f}\")\n"
   ]
  },
  {
   "cell_type": "markdown",
   "id": "87c7d5a3",
   "metadata": {},
   "source": [
    "* Trial 3 XGboost"
   ]
  },
  {
   "cell_type": "code",
   "execution_count": 53,
   "id": "5a25d22c",
   "metadata": {},
   "outputs": [
    {
     "name": "stdout",
     "output_type": "stream",
     "text": [
      "\n",
      "Training the model....\n"
     ]
    },
    {
     "name": "stderr",
     "output_type": "stream",
     "text": [
      "c:\\Users\\KH&H\\AppData\\Local\\Programs\\Python\\Python311\\Lib\\site-packages\\xgboost\\training.py:183: UserWarning: [18:48:29] WARNING: C:\\actions-runner\\_work\\xgboost\\xgboost\\src\\learner.cc:738: \n",
      "Parameters: { \"use_label_encoder\" } are not used.\n",
      "\n",
      "  bst.update(dtrain, iteration=i, fobj=obj)\n"
     ]
    },
    {
     "name": "stdout",
     "output_type": "stream",
     "text": [
      ".....Taining complete.....\n",
      "Trial 3 | XGBoost | acc = 0.7435\n"
     ]
    }
   ],
   "source": [
    "import xgboost as xgb\n",
    "\n",
    "xgb_pipeline = Pipeline(\n",
    "    [\n",
    "        ('tfidf', TfidfVectorizer(stop_words='english')),\n",
    "        ('model', xgb.XGBClassifier(use_label_encoder=False, eval_metric='mlogloss', random_state=42))\n",
    "    ]\n",
    ")\n",
    "\n",
    "print(\"\\nTraining the model....\")\n",
    "xgb_pipeline.fit(X_train, y_train)\n",
    "print(\".....Taining complete.....\")\n",
    "\n",
    "y_pred = xgb_pipeline.predict(X_val)\n",
    "accuracy = accuracy_score(y_val, y_pred)\n",
    "print(f\"Trial 3 | XGBoost | acc = {accuracy:.4f}\")"
   ]
  }
 ],
 "metadata": {
  "kernelspec": {
   "display_name": "Python 3",
   "language": "python",
   "name": "python3"
  },
  "language_info": {
   "codemirror_mode": {
    "name": "ipython",
    "version": 3
   },
   "file_extension": ".py",
   "mimetype": "text/x-python",
   "name": "python",
   "nbconvert_exporter": "python",
   "pygments_lexer": "ipython3",
   "version": "3.11.5"
  }
 },
 "nbformat": 4,
 "nbformat_minor": 5
}
